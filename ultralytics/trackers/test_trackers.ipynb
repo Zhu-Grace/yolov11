{
 "cells": [
  {
   "cell_type": "markdown",
   "metadata": {},
   "source": [
    "模型路径：\n",
    "D:\\zhujiaxuan\\project\\yolov11\\models\\yolo11n.pt"
   ]
  },
  {
   "cell_type": "code",
   "execution_count": 4,
   "metadata": {},
   "outputs": [
    {
     "ename": "",
     "evalue": "",
     "output_type": "error",
     "traceback": [
      "\u001b[1;31m在当前单元格或上一个单元格中执行代码时 Kernel 崩溃。\n",
      "\u001b[1;31m请查看单元格中的代码，以确定故障的可能原因。\n",
      "\u001b[1;31m单击<a href='https://aka.ms/vscodeJupyterKernelCrash'>此处</a>了解详细信息。\n",
      "\u001b[1;31m有关更多详细信息，请查看 Jupyter <a href='command:jupyter.viewOutput'>log</a>。"
     ]
    }
   ],
   "source": [
    "from ultralytics import YOLO\n",
    "\n",
    "# Load an official or custom model\n",
    "model = YOLO(\"D:\\zhujiaxuan\\project\\yolov11\\models\\yolo11n.pt\")  # Load an official Detect model\n",
    "# model = YOLO(\"yolo11n-seg.pt\")  # Load an official Segment model\n",
    "# model = YOLO(\"yolo11n-pose.pt\")  # Load an official Pose model\n",
    "# model = YOLO(\"path/to/best.pt\")  # Load a custom trained model\n",
    "\n",
    "# Perform tracking with the model\n",
    "# results = model(source=\"test.mp4\", show=True)  # Tracking with default tracker\n",
    "results = model.track(source=\"tennis.mp4\", show=True)  # Tracking with default tracker\n",
    "# results = model.track(\n",
    "    # source=\"https://youtu.be/LNwODJXcvt4\", show=True, tracker=\"bytetrack.yaml\")\n",
    "# )  # Tracking with ByteTrack tracker"
   ]
  }
 ],
 "metadata": {
  "kernelspec": {
   "display_name": "py39",
   "language": "python",
   "name": "python3"
  },
  "language_info": {
   "codemirror_mode": {
    "name": "ipython",
    "version": 3
   },
   "file_extension": ".py",
   "mimetype": "text/x-python",
   "name": "python",
   "nbconvert_exporter": "python",
   "pygments_lexer": "ipython3",
   "version": "3.9.20"
  }
 },
 "nbformat": 4,
 "nbformat_minor": 2
}
